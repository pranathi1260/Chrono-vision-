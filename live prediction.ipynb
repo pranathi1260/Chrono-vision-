{
 "cells": [
  {
   "cell_type": "code",
   "execution_count": 1,
   "id": "f679e7a1",
   "metadata": {},
   "outputs": [],
   "source": [
    "import cv2\n",
    "import imutils\n",
    "import numpy as np\n",
    "from tensorflow.keras.models import load_model\n",
    "\n",
    "model = load_model('models/age_detect_cnn_model.h5')\n",
    "\n",
    "detector = cv2.CascadeClassifier('models/haarcascade_frontalface_default.xml')\n",
    "\n",
    "ranges = ['1-2','3-9','10-20','21-27','28-45','46-65','66-116']\n",
    "\n",
    "cam = cv2.VideoCapture(0)\n",
    "\n",
    "while 1:\n",
    "    ret,frame = cam.read()\n",
    "    if ret:\n",
    "        faces = detector.detectMultiScale(frame,1.3,5)\n",
    "        for x,y,w,h in faces:\n",
    "            face = frame[y:y+h,x:x+w]\n",
    "            face = cv2.cvtColor(face,cv2.COLOR_BGR2GRAY)\n",
    "            face = cv2.resize(face,(200,200))\n",
    "            face = face.reshape(1,200,200,1)\n",
    "            age = model.predict(face)\n",
    "            cv2.rectangle(frame,(x,y),(x+w,y+h),(255,0,0),2)\n",
    "            cv2.rectangle(frame,(x,y+h),(x+w,y+h+50),(255,0,0),-1)\n",
    "            cv2.putText(frame,ranges[np.argmax(age)],(x+65,y+h+35),cv2.FONT_HERSHEY_DUPLEX,0.8,(255,255,255),2)\n",
    "            \n",
    "        cv2.imshow('Live',frame)\n",
    "        \n",
    "        \n",
    "    if cv2.waitKey(1)==27:\n",
    "        break\n",
    "\n",
    "cam.release()\n",
    "cv2.destroyAllWindows()"
   ]
  }
 ],
 "metadata": {
  "kernelspec": {
   "display_name": "Python 3",
   "language": "python",
   "name": "python3"
  },
  "language_info": {
   "codemirror_mode": {
    "name": "ipython",
    "version": 3
   },
   "file_extension": ".py",
   "mimetype": "text/x-python",
   "name": "python",
   "nbconvert_exporter": "python",
   "pygments_lexer": "ipython3",
   "version": "3.8.8"
  }
 },
 "nbformat": 4,
 "nbformat_minor": 5
}
